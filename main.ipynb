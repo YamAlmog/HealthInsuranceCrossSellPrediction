{
 "cells": [
  {
   "cell_type": "markdown",
   "metadata": {},
   "source": [
    "#### Required libraries"
   ]
  },
  {
   "cell_type": "code",
   "execution_count": null,
   "metadata": {},
   "outputs": [],
   "source": [
    "import pandas as pd\n",
    "import numpy as np\n",
    "import matplotlib.pyplot as plt\n",
    "import seaborn as sns\n",
    "%matplotlib inline\n",
    "import threading\n",
    "from sklearn.model_selection import train_test_split, GridSearchCV, KFold, cross_val_score\n",
    "from sklearn.preprocessing import StandardScaler\n",
    "from sklearn.preprocessing import OneHotEncoder\n",
    "from sklearn.linear_model import LogisticRegression \n",
    "from sklearn.metrics import roc_curve, auc, f1_score, confusion_matrix\n",
    "from sklearn.ensemble import RandomForestClassifier\n",
    "from sklearn.neighbors import KNeighborsClassifier\n",
    "from sklearn.decomposition import PCA\n",
    "from sklearn.preprocessing import StandardScaler\n",
    "\n",
    "import warnings\n",
    "warnings.filterwarnings('ignore')"
   ]
  },
  {
   "cell_type": "markdown",
   "metadata": {},
   "source": [
    "### Visualization"
   ]
  },
  {
   "cell_type": "markdown",
   "metadata": {},
   "source": [
    "Open the train dataset and start to explore about it <br>\n",
    "train data have labels and test data do not have\n"
   ]
  },
  {
   "cell_type": "code",
   "execution_count": null,
   "metadata": {},
   "outputs": [],
   "source": [
    "train_file_path = 'train.csv'\n",
    "test_file_path = 'test.csv'\n",
    "train_df = pd.read_csv(train_file_path)\n",
    "test_df = pd.read_csv(test_file_path)\n",
    "print(train_df.shape)\n",
    "print(test_df.shape)"
   ]
  },
  {
   "cell_type": "code",
   "execution_count": null,
   "metadata": {},
   "outputs": [],
   "source": [
    "test_df.info()"
   ]
  },
  {
   "cell_type": "code",
   "execution_count": null,
   "metadata": {},
   "outputs": [],
   "source": [
    "train_df.info()"
   ]
  },
  {
   "cell_type": "markdown",
   "metadata": {},
   "source": [
    "There are no missing values in my data"
   ]
  },
  {
   "cell_type": "markdown",
   "metadata": {},
   "source": [
    "Feature explanation:"
   ]
  },
  {
   "cell_type": "markdown",
   "metadata": {},
   "source": [
    "**id**\t Unique ID for the customer <br>\n",
    "**Gender**\t Gender of the customer <br>\n",
    "**Age**\t Age of the customer <br>\n",
    "**Driving_License**\t 0 : Customer does not have DL, 1 : Customer already has DL <br>\n",
    "**Region_Code**\t Unique code for the region of the customer <br>\n",
    "**Previously_Insured**\t 1 : Customer already has Vehicle Insurance, 0 : Customer doesn't have Vehicle Insurance <br>\n",
    "**Vehicle_Age**\t Age of the Vehicle <br>\n",
    "**Vehicle_Damage**\t 1 : Customer got his/her vehicle damaged in the past. 0 : Customer didn't get his/her vehicle damaged in the past. <br>\n",
    "**Annual_Premium**\t The amount customer needs to pay as premium in the year <br>\n",
    "**Policy_Sales_Channel**\tAnonymized Code for the channel of outreaching to the customer ie. Different Agents, Over Mail, Over Phone, In Person, etc. <br>\n",
    "**Vintage**\t Number of Days, Customer has been associated with the company <br>\n",
    "**Response**\t1 : Customer is interested, 0 : Customer is not interested <br>"
   ]
  },
  {
   "cell_type": "code",
   "execution_count": null,
   "metadata": {},
   "outputs": [],
   "source": [
    "train_df.head(10)"
   ]
  },
  {
   "cell_type": "markdown",
   "metadata": {},
   "source": [
    "#### Explore the categorical features"
   ]
  },
  {
   "cell_type": "code",
   "execution_count": null,
   "metadata": {},
   "outputs": [],
   "source": [
    "print(train_df['Gender'].value_counts())"
   ]
  },
  {
   "cell_type": "code",
   "execution_count": null,
   "metadata": {},
   "outputs": [],
   "source": [
    "plt.figure(figsize=(4,4))\n",
    "value_counts = train_df['Gender'].value_counts()\n",
    "plt.bar(value_counts.index, value_counts.values, color=['mediumturquoise', 'orchid'])\n",
    "plt.xlabel('Gender')\n",
    "plt.ylabel('Distribution')\n",
    "plt.show()"
   ]
  },
  {
   "cell_type": "code",
   "execution_count": null,
   "metadata": {},
   "outputs": [],
   "source": [
    "print(train_df['Vehicle_Age'].value_counts())"
   ]
  },
  {
   "cell_type": "code",
   "execution_count": null,
   "metadata": {},
   "outputs": [],
   "source": [
    "plt.figure(figsize=(4, 4))\n",
    "plt.pie(train_df['Vehicle_Age'].value_counts(),labels=train_df['Vehicle_Age'].value_counts().index, autopct='%1.1f%%', colors=['#66b3ff', '#99ff99', '#ffcc99'])\n",
    "plt.show()"
   ]
  },
  {
   "cell_type": "code",
   "execution_count": null,
   "metadata": {},
   "outputs": [],
   "source": [
    "print(train_df['Vehicle_Damage'].value_counts())"
   ]
  },
  {
   "cell_type": "markdown",
   "metadata": {},
   "source": [
    "Convert the categorical feature to numeric"
   ]
  },
  {
   "cell_type": "code",
   "execution_count": null,
   "metadata": {},
   "outputs": [],
   "source": [
    "def convert_feature_to_binary(df, mapping_key, value:str):\n",
    "    # Check if the column already contains 0 or 1 before mapping\n",
    "    if not set(df[value]).issubset({0, 1}):\n",
    "        df[value] = df[value].map(mapping_key)"
   ]
  },
  {
   "cell_type": "code",
   "execution_count": null,
   "metadata": {},
   "outputs": [],
   "source": [
    "gender_mapping = {'Female': 1, 'Male': 0}\n",
    "convert_feature_to_binary(train_df, gender_mapping, 'Gender')\n",
    "convert_feature_to_binary(test_df, gender_mapping, 'Gender')\n"
   ]
  },
  {
   "cell_type": "code",
   "execution_count": null,
   "metadata": {},
   "outputs": [],
   "source": [
    "Vehicle_mapping = {'Yes': 1, 'No': 0}\n",
    "convert_feature_to_binary(train_df, Vehicle_mapping, 'Vehicle_Damage')\n",
    "convert_feature_to_binary(test_df, Vehicle_mapping, 'Vehicle_Damage')"
   ]
  },
  {
   "cell_type": "markdown",
   "metadata": {},
   "source": [
    "Handle with the categoric feature Vehicle_Age"
   ]
  },
  {
   "cell_type": "code",
   "execution_count": null,
   "metadata": {},
   "outputs": [],
   "source": [
    "encoder = OneHotEncoder(sparse=False, drop='first')  # drop='first' to get k-1 dummies out of k categorical levels\n",
    "def encode_categoric_feature(df, feature):\n",
    "    df_encoded_array = encoder.fit_transform(df[[feature]])\n",
    "\n",
    "    # Create a DataFrame from the encoded array\n",
    "    df_encoded = pd.DataFrame(df_encoded_array, columns=encoder.get_feature_names_out([feature]))\n",
    "    df_encoded = df_encoded.astype(int)\n",
    "    print(train_df_encoded)\n",
    "    # Check if columns of train_df_encoded are in train_df\n",
    "    if 'Vehicle_Age_< 1 Year' not in train_df.columns:\n",
    "        train_df = pd.concat([train_df, train_df_encoded], axis=1)\n",
    "        train_df = train_df.drop('Vehicle_Age', axis=1)\n",
    "\n",
    "df_encoded_array = encoder.fit_transform(train_df[['Vehicle_Age']])\n",
    "\n",
    "# Create a DataFrame from the encoded array\n",
    "train_df_encoded = pd.DataFrame(df_encoded_array, columns=encoder.get_feature_names_out(['Vehicle_Age']))\n",
    "train_df_encoded = train_df_encoded.astype(int)\n",
    "print(train_df_encoded)\n",
    "# Check if columns of train_df_encoded are in train_df\n",
    "if 'Vehicle_Age_< 1 Year' not in train_df.columns:\n",
    "    train_df = pd.concat([train_df, train_df_encoded], axis=1)\n",
    "    train_df = train_df.drop('Vehicle_Age', axis=1)"
   ]
  },
  {
   "cell_type": "code",
   "execution_count": null,
   "metadata": {},
   "outputs": [],
   "source": [
    "train_df.head()"
   ]
  },
  {
   "cell_type": "code",
   "execution_count": null,
   "metadata": {},
   "outputs": [],
   "source": [
    "test_df.head(10)"
   ]
  },
  {
   "cell_type": "markdown",
   "metadata": {},
   "source": []
  }
 ],
 "metadata": {
  "kernelspec": {
   "display_name": "base",
   "language": "python",
   "name": "python3"
  },
  "language_info": {
   "codemirror_mode": {
    "name": "ipython",
    "version": 3
   },
   "file_extension": ".py",
   "mimetype": "text/x-python",
   "name": "python",
   "nbconvert_exporter": "python",
   "pygments_lexer": "ipython3",
   "version": "3.10.9"
  }
 },
 "nbformat": 4,
 "nbformat_minor": 2
}
